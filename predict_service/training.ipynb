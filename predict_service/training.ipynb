{
 "cells": [
  {
   "cell_type": "code",
   "execution_count": 1,
   "metadata": {},
   "outputs": [],
   "source": [
    "import numpy as np\n",
    "import pandas as pd\n",
    "from sklearn.preprocessing import MultiLabelBinarizer, LabelEncoder\n",
    "from sklearn.model_selection import train_test_split, cross_val_score, StratifiedKFold\n",
    "from sklearn.metrics import make_scorer, f1_score, precision_score, accuracy_score\n",
    "from sklearn.svm import SVC\n",
    "from sklearn.ensemble import RandomForestClassifier\n",
    "from imblearn.over_sampling import RandomOverSampler\n",
    "import joblib\n",
    "from xgboost import XGBClassifier\n",
    "from tensorflow.keras.models import Sequential\n",
    "from tensorflow.keras.layers import InputLayer, Dense, Dropout"
   ]
  },
  {
   "cell_type": "code",
   "execution_count": 2,
   "metadata": {},
   "outputs": [],
   "source": [
    "# Получаем данные\n",
    "dataset = pd.read_csv(\"../../data/doctor_vs_symptoms.csv\", sep=\";\", encoding=\"cp1251\")"
   ]
  },
  {
   "cell_type": "code",
   "execution_count": 3,
   "metadata": {},
   "outputs": [],
   "source": [
    "half_symptoms_data = [\n",
    "    ['насморк эпизодами','чихание эпизодами','дрожь','озноб','слезотечение из глаз эпизодами'],\n",
    "    ['болезненное мочеиспускание','гнойные выделения из уретры','покраснение и отёк уретры','гнойные выделения из влагалища'],\n",
    "    ['боль в верхней части живота','изжога','язвы на языке','рвота'],\n",
    "    ['бледная кожа','мелкие кровоизлияния в кожу','увеличенные лимфатические узлы','увеличение дёсен'],\n",
    "    ['боль внизу живота','кровянистые выделения из влагалища','изменение характера выделений из влагалища'],\n",
    "    ['кожный зуд','кожная сыпь','общая слабость','повышение температуры тела'],\n",
    "    ['кожная сыпь','озноб','боль в суставах','рвота','общая слабость','повышение температуры тела'],\n",
    "    ['боль в груди','сжимающая боль в груди','одышка','чувство нехватки воздуха','головокружение'],\n",
    "    ['боль в молочных железах','боль в молочных железах незадолго до менструации','появление уплотнений или образований в молочных железах'],\n",
    "    ['боль в спине','боль в шее','ограничение движений в спине','ограничение движений в шее','головокружение'],\n",
    "    ['боль в пояснице','повышенное давление','высокий уровень сахара в крови','увеличенный объём мочи','частые ночные походы в туалет'],\n",
    "    ['кожный зуд у глаз','покраснение глаз','шелушение кожи'],\n",
    "    ['чихание','озноб','общая слабость','кашель','повышение температуры тела','головная боль','увеличенные лимфатические узлы','мокрота'],\n",
    "    ['появление крови в стуле','повышенный аппетит','потеря аппетита','диарея'],\n",
    "    ['галлюцинации','убеждения не поддающиеся логике','несвязная или нелогичная речь'],\n",
    "    ['приступы удушья','сильный кашель','одышка при физической нагрузке'],\n",
    "    ['боль в конечностях','покраснение на коже','опухание сустава','уменьшение подвижности в суставе'],\n",
    "    ['зубная боль','повышение температуры тела','кровоточивость десны','припухлость десны'],\n",
    "    ['боль в пояснице','боль в нижней части живота','частое мочеиспускание','болезненное мочеиспускание'],\n",
    "    ['покраснение около вены на ноге','боль около вены на ноге','отёки на ногах'],\n",
    "    ['рана на коже','боль от раны','кровотечение из раны'],\n",
    "    ['общая слабость','увеличение веса','ощущение холода даже в тепле','перепады настроения','ломкие ногти','ломкие волосы']\n",
    "]\n",
    "\n",
    "half_symptoms_answers = [\n",
    "    'Аллерголог', 'Венеролог','Гастроэнтеролог', 'Гематолог', 'Гинеколог', 'Дерматолог', 'Инфекционист', 'Кардиолог', 'Маммолог',\n",
    "    'Невролог', 'Нефролог', 'Окулист', 'Отоларинголог', 'Проктолог', 'Психиатр', 'Пульмонолог', 'Ревматолог', 'Стоматолог',\n",
    "    'Уролог', 'Флеболог', 'Хирург', 'Эндокринолог'\n",
    "]\n",
    "\n",
    "unique_symptoms_data = [\n",
    "    ['насморк эпизодами','чихание эпизодами','слезотечение из глаз эпизодами', 'отёк эпизодами'],\n",
    "    ['гнойные выделения из уретры','покраснение и отёк уретры','гнойные выделения из влагалища', 'боль в яичках'],\n",
    "    ['впавшие глаза', 'чувство тяжести в верхней части живота', 'быстрая утомляемость','язвы на языке'],\n",
    "    ['бледная кожа', 'мелкие кровоизлияния в кожу', 'увеличение дёсен', 'отёки на лице'],\n",
    "    ['изменение характера выделений из влагалища', 'выделения из влагалища с гнилостным запахом', 'бесплодие', 'увеличение живота'],\n",
    "    ['угри', 'рубцы на коже', 'узловые кожные высыпания', 'серебристо-белые высыпания'],\n",
    "    ['слабый иммунитет', 'увеличение затылочных лимфоузлов', 'появление белых пятен во рту', 'исчезновение сыпи через несколько дней'],\n",
    "    ['сжимающая боль в груди', 'перебои в работе сердца', 'приступы боли в груди', 'боль проходит после приёма нитроглицерина'],\n",
    "    ['боль в молочных железах', 'боль в молочных железах незадолго до менструации', 'появление уплотнений или образований в молочных железах', 'выделения из сосков от различных оттенков жёлтого до коричневого и серого'],\n",
    "    ['приступы головной боли', 'слабость в руках', 'онемение в руках', 'ограничение движений в спине'],\n",
    "    ['боль независит от положения или движений', 'увеличенный объём мочи', 'частые ночные походы в туалет', 'высокий уровень сахара в крови'],\n",
    "    ['ухудшение зрения', 'расплывчатость объектов', 'гнойные выделения из глаз', 'нарушение цветоощущения'],\n",
    "    ['першение в горле', 'боль в области переносицы', 'желто-зеленые выделения из носа', 'отсутствие голоса'],\n",
    "    ['появление крови в стуле', 'боль во время дефекации', 'боль в анальной области', 'раздражение в анусе'],\n",
    "    ['убеждения не поддающиеся логике', 'галлюцинации', 'отсутствие критики к своему состоянию', 'навязчивые мысли и действия'],\n",
    "    ['приступы удушья', 'свистящие хрипы', 'боль в груди при кашле', 'свистящее дыхание'],\n",
    "    ['опухание сустава', 'боль в суставе', 'уменьшение подвижности в суставе', 'скованность в движениях'],\n",
    "    ['зубная боль', 'зубная боль усиливается от горячего', 'кровоточивость десны', 'зубная боль усиливается от холодного'],\n",
    "    ['дискомфорт в мочевом пузыре', 'наличие крови в моче и сперме', 'чувство что мочевой пузырь опорожнён не полностью', 'затрудненное мочеиспускание'],\n",
    "    ['тяжесть в ногах', 'красные, синие или фиолетовые сосудистые образования', 'боль около вены на ноге', 'покраснение около вены на ноге'],\n",
    "    ['кровотечение из раны', 'сильная боль в области кости', 'сильная боль при движении конечностями', 'видимая деформация кости'],\n",
    "    ['сильная жажда', 'ощущение холода даже в тепле', 'ломкие ногти', 'ломкие волосы']\n",
    "]\n",
    "\n",
    "unique_symptoms_answers = [\n",
    "    'Аллерголог', 'Венеролог','Гастроэнтеролог', 'Гематолог', 'Гинеколог', 'Дерматолог', 'Инфекционист', 'Кардиолог', 'Маммолог',\n",
    "    'Невролог', 'Нефролог', 'Окулист', 'Отоларинголог', 'Проктолог', 'Психиатр', 'Пульмонолог', 'Ревматолог', 'Стоматолог',\n",
    "    'Уролог', 'Флеболог', 'Хирург', 'Эндокринолог'\n",
    "]\n",
    "\n",
    "random_symptoms_data =[\n",
    "    ['кашель', 'головная боль', 'общая слабость', 'озноб', 'потеря аппетита', 'зуд в горле', 'головокружение', 'мокрота'],\n",
    "    ['боль в груди','сжимающая боль в груди','одышка','учащенный пульс','мушки перед глазами','холодный пот','повышенное давление'],\n",
    "    ['запор', 'боль во время дефекации', 'появление крови в стуле', 'обезвоживание', 'диарея', 'раздражение в анусе'],\n",
    "    ['раздражение в анусе'],\n",
    "    ['выделение гноя из уха'],\n",
    "    ['утрата брюшных рефлексов'],\n",
    "    ['изменение характера выделений из влагалища']\n",
    "]\n",
    "\n",
    "# ['Невролог' 'Кардиолог' 'Проктолог' 'Невролог' 'Отоларинголог' 'Невролог'\n",
    "#  'Гинеколог']\n",
    "\n",
    "# ['Отоларинголог', 'Кардиолог', 'Проктолог', 'Проктолог', 'Отоларинголог', 'Невролог', 'Гинеколог']\n",
    "\n",
    "test_data = [\n",
    "    ['боль в груди','сжимающая боль в груди','одышка','учащенный пульс','мушки перед глазами','холодный пот','повышенное давление'],\n",
    "    ['сжимающая боль в груди', 'боль в груди','мушки перед глазами','одышка','учащенный пульс','холодный пот','повышенное давление']\n",
    "]\n",
    "\n"
   ]
  },
  {
   "cell_type": "code",
   "execution_count": 4,
   "metadata": {},
   "outputs": [],
   "source": [
    "# Собираем все симптомы через запятую в один столбец\n",
    "dataset['Симптомы'] = dataset[[\"Симптом 1\",\"Симптом 2\",\"Симптом 3\",\"Симптом 4\",\"Симптом 5\",\"Симптом 6\",\"Симптом 7\",\"Симптом 8\",\"Симптом 9\",\n",
    "                               \"Симптом 10\",\"Симптом 11\",\"Симптом 12\",\"Симптом 13\",\"Симптом 14\",\"Симптом 15\"]].agg(lambda symp: ';'.join(symp.dropna().astype(str)), axis=1)\n",
    "\n",
    "dataset = dataset[['Специалист', 'Симптомы']]\n",
    "\n",
    "# Разбиваем симптомы по запятым\n",
    "dataset['Симптомы'] = dataset['Симптомы'].apply(lambda x: [symptom.strip() for symptom in x.split(';')])"
   ]
  },
  {
   "cell_type": "code",
   "execution_count": 5,
   "metadata": {},
   "outputs": [],
   "source": [
    "#dataset['Симптомы'][0]"
   ]
  },
  {
   "cell_type": "code",
   "execution_count": 20,
   "metadata": {},
   "outputs": [
    {
     "data": {
      "text/plain": [
       "['mlb.pkl']"
      ]
     },
     "execution_count": 20,
     "metadata": {},
     "output_type": "execute_result"
    }
   ],
   "source": [
    "# Кодирование симптомов\n",
    "mlb = MultiLabelBinarizer()\n",
    "data_x = mlb.fit_transform(dataset['Симптомы']) # 313 уникальных симптомов\n",
    "\n",
    "joblib.dump(mlb, 'mlb.pkl')"
   ]
  },
  {
   "cell_type": "code",
   "execution_count": 7,
   "metadata": {},
   "outputs": [],
   "source": [
    "#len(data_x[0])"
   ]
  },
  {
   "cell_type": "code",
   "execution_count": 8,
   "metadata": {},
   "outputs": [],
   "source": [
    "# Выделяем уникальных специалистов\n",
    "#unique_specialists = dataset['Специалист'].drop_duplicates().tolist() # 23 уникальных специалиста\n",
    "#unique_spec_df = pd.DataFrame({ 'Специалист': unique_specialists })"
   ]
  },
  {
   "cell_type": "code",
   "execution_count": 9,
   "metadata": {},
   "outputs": [],
   "source": [
    "# Обучаем на уникальных и кодируем специалистов из даты\n",
    "#encoder = OneHotEncoder()\n",
    "##encoder.fit(unique_spec_df)\n",
    "#data_y = encoder.transform(dataset[['Специалист']])"
   ]
  },
  {
   "cell_type": "code",
   "execution_count": 10,
   "metadata": {},
   "outputs": [],
   "source": [
    "# # Кодируем специалистов\n",
    "# encoder = OneHotEncoder(handle_unknown='ignore')\n",
    "# data_y = encoder.fit_transform(dataset[['Специалист']]).toarray() # 22 уникальных специалиста"
   ]
  },
  {
   "cell_type": "code",
   "execution_count": 21,
   "metadata": {},
   "outputs": [
    {
     "data": {
      "text/plain": [
       "['lbe.pkl']"
      ]
     },
     "execution_count": 21,
     "metadata": {},
     "output_type": "execute_result"
    }
   ],
   "source": [
    "# Кодируем специалистов\n",
    "lbe = LabelEncoder()\n",
    "data_y = lbe.fit_transform(dataset['Специалист']) # 22 уникальных специалиста\n",
    "\n",
    "joblib.dump(lbe, 'lbe.pkl')"
   ]
  },
  {
   "cell_type": "code",
   "execution_count": 12,
   "metadata": {},
   "outputs": [],
   "source": [
    "#len(data_y)"
   ]
  },
  {
   "cell_type": "code",
   "execution_count": 13,
   "metadata": {},
   "outputs": [],
   "source": [
    "# Разделение данных на обучающую и тестовую выборки\n",
    "#x_train, x_test, y_train, y_test = train_test_split(data_x, data_y, test_size=0.22, random_state=42, stratify=data_y)"
   ]
  },
  {
   "cell_type": "code",
   "execution_count": 14,
   "metadata": {},
   "outputs": [],
   "source": [
    "# smoten = SMOTEN(random_state=42, k_neighbors=1)\n",
    "# x_resampled, y_resampled = smoten.fit_resample(data_x, data_y)"
   ]
  },
  {
   "cell_type": "code",
   "execution_count": 15,
   "metadata": {},
   "outputs": [],
   "source": [
    "ros = RandomOverSampler(random_state=42)\n",
    "x_resampled, y_resampled = ros.fit_resample(data_x, data_y)"
   ]
  },
  {
   "cell_type": "code",
   "execution_count": 16,
   "metadata": {},
   "outputs": [],
   "source": [
    "#resaml_y = lbe.inverse_transform(y_resampled)\n",
    "#resaml_x = mlb.inverse_transform(x_resampled)\n",
    "#ind = 114\n",
    "#print(resaml_y[ind])\n",
    "#resaml_x[ind]"
   ]
  },
  {
   "cell_type": "code",
   "execution_count": 17,
   "metadata": {},
   "outputs": [],
   "source": [
    "# count = 0\n",
    "# for i in range(len(resaml_y)):\n",
    "#     if resaml_y[i] == 'Психиатр':\n",
    "#         count = count + 1\n",
    "\n",
    "\n",
    "# print(count)"
   ]
  },
  {
   "cell_type": "code",
   "execution_count": 23,
   "metadata": {},
   "outputs": [
    {
     "name": "stdout",
     "output_type": "stream",
     "text": [
      "C= 0.2 gamma= scale kernel= linear\n",
      "Средняя accuracy: 0.8943589743589744\n",
      "Средняя F1 (micro): 0.8943589743589744\n",
      "Средняя F1 (macro): 0.8751948051948052\n",
      "Средняя F1 (weighted): 0.8803467643467645\n",
      "Средняя precision_micro: 0.8943589743589744\n",
      "Средняя precision_macro: 0.8915151515151514\n",
      "Средняя precision_weighted: 0.9001752136752137\n"
     ]
    },
    {
     "data": {
      "text/plain": [
       "['model_svc.pkl']"
      ]
     },
     "execution_count": 23,
     "metadata": {},
     "output_type": "execute_result"
    }
   ],
   "source": [
    "# Обучение модели SVC\n",
    "c_ = 0.2 # 0.2\n",
    "gamma_ = 'scale' #'scale'\n",
    "kernel_ = 'linear' #'linear'\n",
    "model_svc = SVC(C=c_, gamma=gamma_, kernel=kernel_,)\n",
    "\n",
    "print(\"C=\", c_, \"gamma=\", gamma_, \"kernel=\", kernel_)\n",
    "\n",
    "cv_ = StratifiedKFold(n_splits=5, shuffle=True, random_state=42)\n",
    "\n",
    "# Оценка модели\n",
    "scorer = make_scorer(accuracy_score)\n",
    "scores = cross_val_score(model_svc, x_resampled, y_resampled, scoring=scorer, cv=cv_)\n",
    "print(\"Средняя accuracy:\", np.mean(scores))\n",
    "\n",
    "scorer = make_scorer(f1_score, average='micro', zero_division=0)\n",
    "scores = cross_val_score(model_svc, x_resampled, y_resampled, scoring=scorer, cv=cv_)\n",
    "print(\"Средняя F1 (micro):\", np.mean(scores))\n",
    "\n",
    "scorer = make_scorer(f1_score, average='macro', zero_division=0)\n",
    "scores = cross_val_score(model_svc, x_resampled, y_resampled, scoring=scorer, cv=cv_)\n",
    "print(\"Средняя F1 (macro):\", np.mean(scores))\n",
    "\n",
    "scorer = make_scorer(f1_score, average='weighted', zero_division=0)\n",
    "scores = cross_val_score(model_svc, x_resampled, y_resampled, scoring=scorer, cv=cv_)\n",
    "print(\"Средняя F1 (weighted):\", np.mean(scores))\n",
    "\n",
    "scorer = make_scorer(precision_score, average='micro', zero_division=0)\n",
    "scores = cross_val_score(model_svc, x_resampled, y_resampled, scoring=scorer, cv=cv_)\n",
    "print(\"Средняя precision_micro:\", np.mean(scores))\n",
    "\n",
    "scorer = make_scorer(precision_score, average='macro', zero_division=0)\n",
    "scores = cross_val_score(model_svc, x_resampled, y_resampled, scoring=scorer, cv=cv_)\n",
    "print(\"Средняя precision_macro:\", np.mean(scores))\n",
    "\n",
    "scorer = make_scorer(precision_score, average='weighted', zero_division=0)\n",
    "scores = cross_val_score(model_svc, x_resampled, y_resampled, scoring=scorer, cv=cv_)\n",
    "print(\"Средняя precision_weighted:\", np.mean(scores))\n",
    "\n",
    "# Обучение модели на полных данных\n",
    "model_svc.fit(x_resampled, y_resampled)\n",
    "\n",
    "joblib.dump(model_svc, 'model_svc.pkl')"
   ]
  },
  {
   "cell_type": "code",
   "execution_count": 19,
   "metadata": {},
   "outputs": [],
   "source": [
    "# param_grid = {\n",
    "#     'estimator__C': [0.1, 1, 10],\n",
    "#     'estimator__gamma': ['scale', 'auto', 0.01, 0.1, 1],\n",
    "#     'estimator__kernel': ['rbf', 'linear', 'poly']\n",
    "# }\n",
    "\n",
    "# # Поиск по сетке\n",
    "# grid_search = GridSearchCV(model_svc, param_grid, cv=5, scoring='accuracy')\n",
    "# grid_search.fit(data_x, data_y)\n",
    "\n",
    "# # Лучшие параметры и результат\n",
    "# print(\"Лучшая конфигурация:\", grid_search.best_params_)\n",
    "# print(\"Лучшая точность:\", grid_search.best_score_)"
   ]
  },
  {
   "cell_type": "code",
   "execution_count": 24,
   "metadata": {},
   "outputs": [],
   "source": [
    "half_symp_transform = mlb.transform(half_symptoms_data)\n",
    "half_symp_pred_encode = model_svc.predict(half_symp_transform)\n",
    "\n",
    "#len(x_my_data[0])\n",
    "half_symp_pred = lbe.inverse_transform(half_symp_pred_encode)\n",
    "#print(half_symp_pred)"
   ]
  },
  {
   "cell_type": "code",
   "execution_count": 25,
   "metadata": {},
   "outputs": [
    {
     "name": "stdout",
     "output_type": "stream",
     "text": [
      "Правильно отвечено: 21 Всего вопросов: 22\n"
     ]
    }
   ],
   "source": [
    "good_ans_half_symp = 0\n",
    "\n",
    "for i in range(0, len(half_symptoms_answers)):\n",
    "    if half_symp_pred[i] == half_symptoms_answers[i]:\n",
    "        good_ans_half_symp = good_ans_half_symp + 1\n",
    "\n",
    "print(\"Правильно отвечено:\", good_ans_half_symp, \"Всего вопросов:\", len(half_symptoms_answers))"
   ]
  },
  {
   "cell_type": "code",
   "execution_count": 22,
   "metadata": {},
   "outputs": [],
   "source": [
    "#half_symptoms_answers"
   ]
  },
  {
   "cell_type": "code",
   "execution_count": 26,
   "metadata": {},
   "outputs": [],
   "source": [
    "unique_symp_transform = mlb.transform(unique_symptoms_data)\n",
    "unique_symp_pred_encode = model_svc.predict(unique_symp_transform)\n",
    "\n",
    "#len(x_my_data[0])\n",
    "unique_symp_pred = lbe.inverse_transform(unique_symp_pred_encode)\n",
    "#print(unique_symp_pred)"
   ]
  },
  {
   "cell_type": "code",
   "execution_count": 27,
   "metadata": {},
   "outputs": [
    {
     "name": "stdout",
     "output_type": "stream",
     "text": [
      "Правильно отвечено: 17 Всего вопросов: 22\n"
     ]
    }
   ],
   "source": [
    "good_ans_unique_symp = 0\n",
    "\n",
    "for i in range(0, len(unique_symptoms_answers)):\n",
    "    if unique_symp_pred[i] == unique_symptoms_answers[i]:\n",
    "        good_ans_unique_symp = good_ans_unique_symp + 1\n",
    "\n",
    "print(\"Правильно отвечено:\", good_ans_unique_symp, \"Всего вопросов:\", len(unique_symptoms_answers))"
   ]
  },
  {
   "cell_type": "code",
   "execution_count": 28,
   "metadata": {},
   "outputs": [
    {
     "name": "stdout",
     "output_type": "stream",
     "text": [
      "['Невролог' 'Кардиолог' 'Проктолог' 'Невролог' 'Отоларинголог' 'Невролог'\n",
      " 'Невролог']\n"
     ]
    }
   ],
   "source": [
    "random_symp_transform = mlb.transform(random_symptoms_data)\n",
    "random_symp_pred_encode = model_svc.predict(random_symp_transform)\n",
    "\n",
    "random_symp_pred = lbe.inverse_transform(random_symp_pred_encode)\n",
    "print(random_symp_pred)"
   ]
  },
  {
   "cell_type": "code",
   "execution_count": 29,
   "metadata": {},
   "outputs": [
    {
     "name": "stdout",
     "output_type": "stream",
     "text": [
      "Средняя accuracy: 0.8587179487179487\n",
      "Средняя F1 (micro): 0.8587179487179487\n",
      "Средняя F1 (macro): 0.8324242424242424\n",
      "Средняя F1 (weighted): 0.8363675213675213\n",
      "Средняя precision_micro: 0.8587179487179487\n",
      "Средняя precision_macro: 0.8409090909090908\n",
      "Средняя precision_weighted: 0.848258547008547\n"
     ]
    },
    {
     "data": {
      "text/plain": [
       "['model_rf.pkl']"
      ]
     },
     "execution_count": 29,
     "metadata": {},
     "output_type": "execute_result"
    }
   ],
   "source": [
    "# Обучение модели Random Forest\n",
    "model_rf = RandomForestClassifier(n_estimators=100, max_depth=20, min_samples_leaf=2, random_state=42)\n",
    "\n",
    "cv_ = StratifiedKFold(n_splits=5, shuffle=True, random_state=42)\n",
    "\n",
    "# Оценка модели\n",
    "scorer = make_scorer(accuracy_score)\n",
    "scores = cross_val_score(model_rf, x_resampled, y_resampled, scoring=scorer, cv=cv_)\n",
    "print(\"Средняя accuracy:\", np.mean(scores))\n",
    "\n",
    "scorer = make_scorer(f1_score, average='micro', zero_division=0)\n",
    "scores = cross_val_score(model_rf, x_resampled, y_resampled, scoring=scorer, cv=cv_)\n",
    "print(\"Средняя F1 (micro):\", np.mean(scores))\n",
    "\n",
    "scorer = make_scorer(f1_score, average='macro', zero_division=0)\n",
    "scores = cross_val_score(model_rf, x_resampled, y_resampled, scoring=scorer, cv=cv_)\n",
    "print(\"Средняя F1 (macro):\", np.mean(scores))\n",
    "\n",
    "scorer = make_scorer(f1_score, average='weighted', zero_division=0)\n",
    "scores = cross_val_score(model_rf, x_resampled, y_resampled, scoring=scorer, cv=cv_)\n",
    "print(\"Средняя F1 (weighted):\", np.mean(scores))\n",
    "\n",
    "scorer = make_scorer(precision_score, average='micro', zero_division=0)\n",
    "scores = cross_val_score(model_rf, x_resampled, y_resampled, scoring=scorer, cv=cv_)\n",
    "print(\"Средняя precision_micro:\", np.mean(scores))\n",
    "\n",
    "scorer = make_scorer(precision_score, average='macro', zero_division=0)\n",
    "scores = cross_val_score(model_rf, x_resampled, y_resampled, scoring=scorer, cv=cv_)\n",
    "print(\"Средняя precision_macro:\", np.mean(scores))\n",
    "\n",
    "scorer = make_scorer(precision_score, average='weighted', zero_division=0)\n",
    "scores = cross_val_score(model_rf, x_resampled, y_resampled, scoring=scorer, cv=cv_)\n",
    "print(\"Средняя precision_weighted:\", np.mean(scores))\n",
    "\n",
    "# Обучение модели на полных данных\n",
    "model_rf.fit(x_resampled, y_resampled)\n",
    "\n",
    "joblib.dump(model_rf, 'model_rf.pkl')"
   ]
  },
  {
   "cell_type": "code",
   "execution_count": 30,
   "metadata": {},
   "outputs": [],
   "source": [
    "half_symp_transform = mlb.transform(half_symptoms_data)\n",
    "half_symp_pred_encode = model_rf.predict(half_symp_transform)\n",
    "\n",
    "#len(x_my_data[0])\n",
    "half_symp_pred = lbe.inverse_transform(half_symp_pred_encode)\n",
    "#print(half_symp_pred)"
   ]
  },
  {
   "cell_type": "code",
   "execution_count": 31,
   "metadata": {},
   "outputs": [
    {
     "name": "stdout",
     "output_type": "stream",
     "text": [
      "Правильно отвечено: 21 Всего вопросов: 22\n"
     ]
    }
   ],
   "source": [
    "good_ans_half_symp = 0\n",
    "\n",
    "for i in range(0, len(half_symptoms_answers)):\n",
    "    if half_symp_pred[i] == half_symptoms_answers[i]:\n",
    "        good_ans_half_symp = good_ans_half_symp + 1\n",
    "\n",
    "print(\"Правильно отвечено:\", good_ans_half_symp, \"Всего вопросов:\", len(half_symptoms_answers))"
   ]
  },
  {
   "cell_type": "code",
   "execution_count": 32,
   "metadata": {},
   "outputs": [],
   "source": [
    "unique_symp_transform = mlb.transform(unique_symptoms_data)\n",
    "unique_symp_pred_encode = model_rf.predict(unique_symp_transform)\n",
    "\n",
    "#len(x_my_data[0])\n",
    "unique_symp_pred = lbe.inverse_transform(unique_symp_pred_encode)\n",
    "#print(unique_symp_pred)"
   ]
  },
  {
   "cell_type": "code",
   "execution_count": 33,
   "metadata": {},
   "outputs": [
    {
     "name": "stdout",
     "output_type": "stream",
     "text": [
      "Правильно отвечено: 18 Всего вопросов: 22\n"
     ]
    }
   ],
   "source": [
    "good_ans_unique_symp = 0\n",
    "\n",
    "for i in range(0, len(unique_symptoms_answers)):\n",
    "    if unique_symp_pred[i] == unique_symptoms_answers[i]:\n",
    "        good_ans_unique_symp = good_ans_unique_symp + 1\n",
    "\n",
    "print(\"Правильно отвечено:\", good_ans_unique_symp, \"Всего вопросов:\", len(unique_symptoms_answers))"
   ]
  },
  {
   "cell_type": "code",
   "execution_count": 34,
   "metadata": {},
   "outputs": [
    {
     "name": "stdout",
     "output_type": "stream",
     "text": [
      "['Отоларинголог' 'Кардиолог' 'Проктолог' 'Невролог' 'Невролог' 'Невролог'\n",
      " 'Гинеколог']\n"
     ]
    }
   ],
   "source": [
    "random_symp_transform = mlb.transform(random_symptoms_data)\n",
    "random_symp_pred_encode = model_rf.predict(random_symp_transform)\n",
    "\n",
    "random_symp_pred = lbe.inverse_transform(random_symp_pred_encode)\n",
    "print(random_symp_pred)"
   ]
  },
  {
   "cell_type": "code",
   "execution_count": 35,
   "metadata": {},
   "outputs": [
    {
     "name": "stdout",
     "output_type": "stream",
     "text": [
      "Средняя accuracy: 0.8792307692307693\n",
      "Средняя F1 (micro): 0.8792307692307693\n",
      "Средняя F1 (macro): 0.8534343434343434\n",
      "Средняя F1 (weighted): 0.8612735042735042\n",
      "Средняя precision_micro: 0.8792307692307693\n",
      "Средняя precision_macro: 0.8632034632034632\n",
      "Средняя precision_weighted: 0.8739468864468865\n"
     ]
    },
    {
     "data": {
      "text/plain": [
       "['model_xgb.pkl']"
      ]
     },
     "execution_count": 35,
     "metadata": {},
     "output_type": "execute_result"
    }
   ],
   "source": [
    "# Модель XGBoost\n",
    "model_xgb = XGBClassifier(\n",
    "    n_estimators=50,\n",
    "    learning_rate=0.75,\n",
    "    min_child_weight=0.4,\n",
    "    objective='multi:softprob',\n",
    "    num_class=len(set(y_resampled)),\n",
    "    eval_metric='mlogloss',\n",
    "    random_state=42,\n",
    ")\n",
    "\n",
    "cv_ = StratifiedKFold(n_splits=5, shuffle=True, random_state=42)\n",
    "\n",
    "# Оценка модели\n",
    "scorer = make_scorer(accuracy_score)\n",
    "scores = cross_val_score(model_xgb, x_resampled, y_resampled, scoring=scorer, cv=cv_)\n",
    "print(\"Средняя accuracy:\", np.mean(scores))\n",
    "\n",
    "scorer = make_scorer(f1_score, average='micro', zero_division=0)\n",
    "scores = cross_val_score(model_xgb, x_resampled, y_resampled, scoring=scorer, cv=cv_)\n",
    "print(\"Средняя F1 (micro):\", np.mean(scores))\n",
    "\n",
    "scorer = make_scorer(f1_score, average='macro', zero_division=0)\n",
    "scores = cross_val_score(model_xgb, x_resampled, y_resampled, scoring=scorer, cv=cv_)\n",
    "print(\"Средняя F1 (macro):\", np.mean(scores))\n",
    "\n",
    "scorer = make_scorer(f1_score, average='weighted', zero_division=0)\n",
    "scores = cross_val_score(model_xgb, x_resampled, y_resampled, scoring=scorer, cv=cv_)\n",
    "print(\"Средняя F1 (weighted):\", np.mean(scores))\n",
    "\n",
    "scorer = make_scorer(precision_score, average='micro', zero_division=0)\n",
    "scores = cross_val_score(model_xgb, x_resampled, y_resampled, scoring=scorer, cv=cv_)\n",
    "print(\"Средняя precision_micro:\", np.mean(scores))\n",
    "\n",
    "scorer = make_scorer(precision_score, average='macro', zero_division=0)\n",
    "scores = cross_val_score(model_xgb, x_resampled, y_resampled, scoring=scorer, cv=cv_)\n",
    "print(\"Средняя precision_macro:\", np.mean(scores))\n",
    "\n",
    "scorer = make_scorer(precision_score, average='weighted', zero_division=0)\n",
    "scores = cross_val_score(model_xgb, x_resampled, y_resampled, scoring=scorer, cv=cv_)\n",
    "print(\"Средняя precision_weighted:\", np.mean(scores))\n",
    "\n",
    "# Обучение на полных данных\n",
    "model_xgb.fit(x_resampled, y_resampled)\n",
    "\n",
    "joblib.dump(model_xgb, 'model_xgb.pkl')"
   ]
  },
  {
   "cell_type": "code",
   "execution_count": 36,
   "metadata": {},
   "outputs": [],
   "source": [
    "half_symp_transform = mlb.transform(half_symptoms_data)\n",
    "half_symp_pred_encode = model_xgb.predict(half_symp_transform)\n",
    "\n",
    "#len(x_my_data[0])\n",
    "half_symp_pred = lbe.inverse_transform(half_symp_pred_encode)\n",
    "#print(half_symp_pred)"
   ]
  },
  {
   "cell_type": "code",
   "execution_count": 37,
   "metadata": {},
   "outputs": [
    {
     "name": "stdout",
     "output_type": "stream",
     "text": [
      "Правильно отвечено: 21 Всего вопросов: 22\n"
     ]
    }
   ],
   "source": [
    "good_ans_half_symp = 0\n",
    "\n",
    "for i in range(0, len(half_symptoms_answers)):\n",
    "    if half_symp_pred[i] == half_symptoms_answers[i]:\n",
    "        good_ans_half_symp = good_ans_half_symp + 1\n",
    "\n",
    "print(\"Правильно отвечено:\", good_ans_half_symp, \"Всего вопросов:\", len(half_symptoms_answers))"
   ]
  },
  {
   "cell_type": "code",
   "execution_count": 38,
   "metadata": {},
   "outputs": [],
   "source": [
    "unique_symp_transform = mlb.transform(unique_symptoms_data)\n",
    "unique_symp_pred_encode = model_xgb.predict(unique_symp_transform)\n",
    "\n",
    "#len(x_my_data[0])\n",
    "unique_symp_pred = lbe.inverse_transform(unique_symp_pred_encode)\n",
    "#print(unique_symp_pred)"
   ]
  },
  {
   "cell_type": "code",
   "execution_count": 39,
   "metadata": {},
   "outputs": [
    {
     "name": "stdout",
     "output_type": "stream",
     "text": [
      "Правильно отвечено: 12 Всего вопросов: 22\n"
     ]
    }
   ],
   "source": [
    "good_ans_unique_symp = 0\n",
    "\n",
    "for i in range(0, len(unique_symptoms_answers)):\n",
    "    if unique_symp_pred[i] == unique_symptoms_answers[i]:\n",
    "        good_ans_unique_symp = good_ans_unique_symp + 1\n",
    "\n",
    "print(\"Правильно отвечено:\", good_ans_unique_symp, \"Всего вопросов:\", len(unique_symptoms_answers))"
   ]
  },
  {
   "cell_type": "code",
   "execution_count": 40,
   "metadata": {},
   "outputs": [
    {
     "name": "stdout",
     "output_type": "stream",
     "text": [
      "['Невролог' 'Кардиолог' 'Проктолог' 'Невролог' 'Отоларинголог' 'Невролог'\n",
      " 'Гинеколог']\n"
     ]
    }
   ],
   "source": [
    "random_symp_transform = mlb.transform(random_symptoms_data)\n",
    "random_symp_pred_encode = model_xgb.predict(random_symp_transform)\n",
    "\n",
    "random_symp_pred = lbe.inverse_transform(random_symp_pred_encode)\n",
    "print(random_symp_pred)"
   ]
  },
  {
   "cell_type": "code",
   "execution_count": 18,
   "metadata": {},
   "outputs": [],
   "source": [
    "# Разделение данных на обучающую и тестовую выборки\n",
    "x_train, x_test, y_train, y_test = train_test_split(x_resampled, y_resampled, test_size=0.22, random_state=42, stratify=y_resampled)"
   ]
  },
  {
   "cell_type": "code",
   "execution_count": 19,
   "metadata": {},
   "outputs": [
    {
     "name": "stdout",
     "output_type": "stream",
     "text": [
      "Epoch 1/21\n",
      "\u001b[1m5/5\u001b[0m \u001b[32m━━━━━━━━━━━━━━━━━━━━\u001b[0m\u001b[37m\u001b[0m \u001b[1m2s\u001b[0m 60ms/step - accuracy: 0.0434 - loss: 3.1056 - val_accuracy: 0.0682 - val_loss: 3.0364\n",
      "Epoch 2/21\n",
      "\u001b[1m5/5\u001b[0m \u001b[32m━━━━━━━━━━━━━━━━━━━━\u001b[0m\u001b[37m\u001b[0m \u001b[1m0s\u001b[0m 22ms/step - accuracy: 0.1275 - loss: 3.0495 - val_accuracy: 0.1364 - val_loss: 2.9790\n",
      "Epoch 3/21\n",
      "\u001b[1m5/5\u001b[0m \u001b[32m━━━━━━━━━━━━━━━━━━━━\u001b[0m\u001b[37m\u001b[0m \u001b[1m0s\u001b[0m 19ms/step - accuracy: 0.1578 - loss: 2.9840 - val_accuracy: 0.2500 - val_loss: 2.9250\n",
      "Epoch 4/21\n",
      "\u001b[1m5/5\u001b[0m \u001b[32m━━━━━━━━━━━━━━━━━━━━\u001b[0m\u001b[37m\u001b[0m \u001b[1m0s\u001b[0m 20ms/step - accuracy: 0.2112 - loss: 2.9303 - val_accuracy: 0.3182 - val_loss: 2.8648\n",
      "Epoch 5/21\n",
      "\u001b[1m5/5\u001b[0m \u001b[32m━━━━━━━━━━━━━━━━━━━━\u001b[0m\u001b[37m\u001b[0m \u001b[1m0s\u001b[0m 21ms/step - accuracy: 0.3387 - loss: 2.8259 - val_accuracy: 0.4545 - val_loss: 2.7984\n",
      "Epoch 6/21\n",
      "\u001b[1m5/5\u001b[0m \u001b[32m━━━━━━━━━━━━━━━━━━━━\u001b[0m\u001b[37m\u001b[0m \u001b[1m0s\u001b[0m 22ms/step - accuracy: 0.3851 - loss: 2.7711 - val_accuracy: 0.4773 - val_loss: 2.7270\n",
      "Epoch 7/21\n",
      "\u001b[1m5/5\u001b[0m \u001b[32m━━━━━━━━━━━━━━━━━━━━\u001b[0m\u001b[37m\u001b[0m \u001b[1m0s\u001b[0m 21ms/step - accuracy: 0.3929 - loss: 2.6822 - val_accuracy: 0.5455 - val_loss: 2.6479\n",
      "Epoch 8/21\n",
      "\u001b[1m5/5\u001b[0m \u001b[32m━━━━━━━━━━━━━━━━━━━━\u001b[0m\u001b[37m\u001b[0m \u001b[1m0s\u001b[0m 20ms/step - accuracy: 0.4466 - loss: 2.6633 - val_accuracy: 0.5682 - val_loss: 2.5633\n",
      "Epoch 9/21\n",
      "\u001b[1m5/5\u001b[0m \u001b[32m━━━━━━━━━━━━━━━━━━━━\u001b[0m\u001b[37m\u001b[0m \u001b[1m0s\u001b[0m 21ms/step - accuracy: 0.5408 - loss: 2.5264 - val_accuracy: 0.6136 - val_loss: 2.4693\n",
      "Epoch 10/21\n",
      "\u001b[1m5/5\u001b[0m \u001b[32m━━━━━━━━━━━━━━━━━━━━\u001b[0m\u001b[37m\u001b[0m \u001b[1m0s\u001b[0m 22ms/step - accuracy: 0.5694 - loss: 2.4255 - val_accuracy: 0.6591 - val_loss: 2.3688\n",
      "Epoch 11/21\n",
      "\u001b[1m5/5\u001b[0m \u001b[32m━━━━━━━━━━━━━━━━━━━━\u001b[0m\u001b[37m\u001b[0m \u001b[1m0s\u001b[0m 19ms/step - accuracy: 0.5950 - loss: 2.2607 - val_accuracy: 0.7273 - val_loss: 2.2569\n",
      "Epoch 12/21\n",
      "\u001b[1m5/5\u001b[0m \u001b[32m━━━━━━━━━━━━━━━━━━━━\u001b[0m\u001b[37m\u001b[0m \u001b[1m0s\u001b[0m 20ms/step - accuracy: 0.6487 - loss: 2.0931 - val_accuracy: 0.7727 - val_loss: 2.1364\n",
      "Epoch 13/21\n",
      "\u001b[1m5/5\u001b[0m \u001b[32m━━━━━━━━━━━━━━━━━━━━\u001b[0m\u001b[37m\u001b[0m \u001b[1m0s\u001b[0m 19ms/step - accuracy: 0.6787 - loss: 2.0746 - val_accuracy: 0.7955 - val_loss: 2.0121\n",
      "Epoch 14/21\n",
      "\u001b[1m5/5\u001b[0m \u001b[32m━━━━━━━━━━━━━━━━━━━━\u001b[0m\u001b[37m\u001b[0m \u001b[1m0s\u001b[0m 20ms/step - accuracy: 0.6908 - loss: 1.9306 - val_accuracy: 0.8182 - val_loss: 1.8845\n",
      "Epoch 15/21\n",
      "\u001b[1m5/5\u001b[0m \u001b[32m━━━━━━━━━━━━━━━━━━━━\u001b[0m\u001b[37m\u001b[0m \u001b[1m0s\u001b[0m 20ms/step - accuracy: 0.7224 - loss: 1.8458 - val_accuracy: 0.8409 - val_loss: 1.7562\n",
      "Epoch 16/21\n",
      "\u001b[1m5/5\u001b[0m \u001b[32m━━━━━━━━━━━━━━━━━━━━\u001b[0m\u001b[37m\u001b[0m \u001b[1m0s\u001b[0m 20ms/step - accuracy: 0.8413 - loss: 1.6579 - val_accuracy: 0.8636 - val_loss: 1.6319\n",
      "Epoch 17/21\n",
      "\u001b[1m5/5\u001b[0m \u001b[32m━━━━━━━━━━━━━━━━━━━━\u001b[0m\u001b[37m\u001b[0m \u001b[1m0s\u001b[0m 19ms/step - accuracy: 0.8166 - loss: 1.4768 - val_accuracy: 0.8864 - val_loss: 1.5100\n",
      "Epoch 18/21\n",
      "\u001b[1m5/5\u001b[0m \u001b[32m━━━━━━━━━━━━━━━━━━━━\u001b[0m\u001b[37m\u001b[0m \u001b[1m0s\u001b[0m 20ms/step - accuracy: 0.8569 - loss: 1.4196 - val_accuracy: 0.8864 - val_loss: 1.3949\n",
      "Epoch 19/21\n",
      "\u001b[1m5/5\u001b[0m \u001b[32m━━━━━━━━━━━━━━━━━━━━\u001b[0m\u001b[37m\u001b[0m \u001b[1m0s\u001b[0m 20ms/step - accuracy: 0.8942 - loss: 1.1570 - val_accuracy: 0.8864 - val_loss: 1.2853\n",
      "Epoch 20/21\n",
      "\u001b[1m5/5\u001b[0m \u001b[32m━━━━━━━━━━━━━━━━━━━━\u001b[0m\u001b[37m\u001b[0m \u001b[1m0s\u001b[0m 21ms/step - accuracy: 0.8703 - loss: 1.1843 - val_accuracy: 0.9091 - val_loss: 1.1764\n",
      "Epoch 21/21\n",
      "\u001b[1m5/5\u001b[0m \u001b[32m━━━━━━━━━━━━━━━━━━━━\u001b[0m\u001b[37m\u001b[0m \u001b[1m0s\u001b[0m 19ms/step - accuracy: 0.8803 - loss: 1.0128 - val_accuracy: 0.9318 - val_loss: 1.0793\n"
     ]
    }
   ],
   "source": [
    "# Модель многослойный персептрон\n",
    "# model_mlp = Sequential()\n",
    "# model_mlp.add(Dense(256, input_shape=(len(data_x[0]),), activation='relu'))\n",
    "# model_mlp.add(Dropout(0.3))\n",
    "# model_mlp.add(Dense(128, activation='relu'))\n",
    "# model_mlp.add(Dropout(0.3))\n",
    "# model_mlp.add(Dense(len(set(y_resampled)), activation='softmax'))\n",
    "\n",
    "model_mlp = Sequential()\n",
    "model_mlp.add(InputLayer(shape=(len(data_x[0]),)))\n",
    "model_mlp.add(Dense(128, activation='relu'))\n",
    "model_mlp.add(Dropout(0.3))\n",
    "model_mlp.add(Dense(64, activation='relu'))\n",
    "model_mlp.add(Dropout(0.3))\n",
    "model_mlp.add(Dense(len(set(y_resampled)), activation='softmax'))\n",
    "\n",
    "# Компиляция модели\n",
    "model_mlp.compile(\n",
    "    loss='sparse_categorical_crossentropy',\n",
    "    optimizer='adam',\n",
    "    metrics=['accuracy']\n",
    ")\n",
    "\n",
    "# Обучение\n",
    "model_mlp.fit(\n",
    "    x_train, y_train,\n",
    "    validation_data=(x_test, y_test),\n",
    "    epochs=21, # (11, 1 слой 256) (21, 1 слой 128)\n",
    "    batch_size=32,\n",
    "    verbose=1\n",
    ")\n",
    "\n",
    "model_mlp.save('model_mlp.keras')"
   ]
  },
  {
   "cell_type": "code",
   "execution_count": 43,
   "metadata": {},
   "outputs": [
    {
     "name": "stdout",
     "output_type": "stream",
     "text": [
      "\u001b[1m2/2\u001b[0m \u001b[32m━━━━━━━━━━━━━━━━━━━━\u001b[0m\u001b[37m\u001b[0m \u001b[1m0s\u001b[0m 54ms/step\n",
      "Средняя F1 (micro): 0.8863636363636364\n",
      "Средняя F1 (macro): 0.8651515151515152\n",
      "Средняя F1 (weighted): 0.8651515151515152\n",
      "Средняя precision_micro: 0.8863636363636364\n",
      "Средняя precision_macro: 0.8712121212121212\n",
      "Средняя precision_weighted: 0.8712121212121212\n"
     ]
    }
   ],
   "source": [
    "y_pred_full = model_mlp.predict(x_test)\n",
    "\n",
    "y_pred = list()\n",
    "for i in range(len(y_pred_full)):\n",
    "    max_value_index = np.argmax(y_pred_full[i])\n",
    "    y_pred.append(max_value_index)\n",
    "\n",
    "# Оценка модели\n",
    "f1_micro = f1_score(y_test, y_pred, average='micro', zero_division=0)\n",
    "print(\"Средняя F1 (micro):\", np.mean(f1_micro))\n",
    "\n",
    "f1_macro = f1_score(y_test, y_pred, average='macro', zero_division=0)\n",
    "print(\"Средняя F1 (macro):\", np.mean(f1_macro))\n",
    "\n",
    "f1_weighted = f1_score(y_test, y_pred, average='weighted', zero_division=0)\n",
    "print(\"Средняя F1 (weighted):\", np.mean(f1_weighted))\n",
    "\n",
    "precision_micro = precision_score(y_test, y_pred, average='micro', zero_division=0)\n",
    "print(\"Средняя precision_micro:\", np.mean(precision_micro))\n",
    "\n",
    "precision_macro = precision_score(y_test, y_pred, average='macro', zero_division=0)\n",
    "print(\"Средняя precision_macro:\", np.mean(precision_macro))\n",
    "\n",
    "precision_weighted = precision_score(y_test, y_pred, average='weighted', zero_division=0)\n",
    "print(\"Средняя precision_weighted:\", np.mean(precision_weighted))"
   ]
  },
  {
   "cell_type": "code",
   "execution_count": 44,
   "metadata": {},
   "outputs": [
    {
     "name": "stdout",
     "output_type": "stream",
     "text": [
      "\u001b[1m1/1\u001b[0m \u001b[32m━━━━━━━━━━━━━━━━━━━━\u001b[0m\u001b[37m\u001b[0m \u001b[1m0s\u001b[0m 39ms/step\n"
     ]
    }
   ],
   "source": [
    "half_symp_transform = mlb.transform(half_symptoms_data)\n",
    "half_symp_pred_encode = model_mlp.predict(half_symp_transform)\n",
    "\n",
    "half_symp_pred = list()\n",
    "for i in range(len(half_symp_pred_encode)):\n",
    "    max_value_index = np.argmax(half_symp_pred_encode[i])\n",
    "    half_symp_pred.append(lbe.classes_[max_value_index])\n",
    "\n",
    "#print(half_symp_pred)"
   ]
  },
  {
   "cell_type": "code",
   "execution_count": 45,
   "metadata": {},
   "outputs": [
    {
     "name": "stdout",
     "output_type": "stream",
     "text": [
      "Правильно отвечено: 22 Всего вопросов: 22\n"
     ]
    }
   ],
   "source": [
    "good_ans_half_symp = 0\n",
    "\n",
    "for i in range(0, len(half_symptoms_answers)):\n",
    "    if half_symp_pred[i] == half_symptoms_answers[i]:\n",
    "        good_ans_half_symp = good_ans_half_symp + 1\n",
    "\n",
    "print(\"Правильно отвечено:\", good_ans_half_symp, \"Всего вопросов:\", len(half_symptoms_answers))"
   ]
  },
  {
   "cell_type": "code",
   "execution_count": 46,
   "metadata": {},
   "outputs": [
    {
     "name": "stdout",
     "output_type": "stream",
     "text": [
      "\u001b[1m1/1\u001b[0m \u001b[32m━━━━━━━━━━━━━━━━━━━━\u001b[0m\u001b[37m\u001b[0m \u001b[1m0s\u001b[0m 45ms/step\n"
     ]
    }
   ],
   "source": [
    "unique_symp_transform = mlb.transform(unique_symptoms_data)\n",
    "unique_symp_pred_encode = model_mlp.predict(unique_symp_transform)\n",
    "\n",
    "unique_symp_pred = list()\n",
    "for i in range(len(unique_symp_pred_encode)):\n",
    "    max_value_index = np.argmax(unique_symp_pred_encode[i])\n",
    "    unique_symp_pred.append(lbe.classes_[max_value_index])\n",
    "\n",
    "#print(unique_symp_pred)"
   ]
  },
  {
   "cell_type": "code",
   "execution_count": 47,
   "metadata": {},
   "outputs": [
    {
     "name": "stdout",
     "output_type": "stream",
     "text": [
      "Правильно отвечено: 22 Всего вопросов: 22\n"
     ]
    }
   ],
   "source": [
    "good_ans_unique_symp = 0\n",
    "\n",
    "for i in range(0, len(unique_symptoms_answers)):\n",
    "    if unique_symp_pred[i] == unique_symptoms_answers[i]:\n",
    "        good_ans_unique_symp = good_ans_unique_symp + 1\n",
    "\n",
    "print(\"Правильно отвечено:\", good_ans_unique_symp, \"Всего вопросов:\", len(unique_symptoms_answers))"
   ]
  },
  {
   "cell_type": "code",
   "execution_count": 48,
   "metadata": {},
   "outputs": [
    {
     "name": "stdout",
     "output_type": "stream",
     "text": [
      "\u001b[1m1/1\u001b[0m \u001b[32m━━━━━━━━━━━━━━━━━━━━\u001b[0m\u001b[37m\u001b[0m \u001b[1m0s\u001b[0m 35ms/step\n",
      "['Отоларинголог', 'Кардиолог', 'Проктолог', 'Инфекционист', 'Отоларинголог', 'Невролог', 'Гинеколог']\n"
     ]
    }
   ],
   "source": [
    "random_symp_transform = mlb.transform(random_symptoms_data)\n",
    "random_symp_pred_encode = model_mlp.predict(random_symp_transform)\n",
    "\n",
    "random_symp_pred = list()\n",
    "for i in range(len(random_symp_pred_encode)):\n",
    "    max_value_index = np.argmax(random_symp_pred_encode[i])\n",
    "    random_symp_pred.append(lbe.classes_[max_value_index])\n",
    "\n",
    "print(random_symp_pred)\n",
    "# ['Отоларинголог', 'Кардиолог', 'Проктолог', 'Проктолог', 'Отоларинголог', 'Невролог', 'Гинеколог']"
   ]
  }
 ],
 "metadata": {
  "kernelspec": {
   "display_name": "venv",
   "language": "python",
   "name": "python3"
  },
  "language_info": {
   "codemirror_mode": {
    "name": "ipython",
    "version": 3
   },
   "file_extension": ".py",
   "mimetype": "text/x-python",
   "name": "python",
   "nbconvert_exporter": "python",
   "pygments_lexer": "ipython3",
   "version": "3.12.8"
  }
 },
 "nbformat": 4,
 "nbformat_minor": 2
}
